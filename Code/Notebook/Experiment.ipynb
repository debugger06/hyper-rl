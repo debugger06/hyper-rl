{
 "cells": [
  {
   "cell_type": "code",
   "execution_count": 1,
   "metadata": {},
   "outputs": [],
   "source": [
    "import numpy as np\n",
    "from keras.utils import np_utils\n",
    "from sklearn.model_selection import train_test_split"
   ]
  },
  {
   "cell_type": "code",
   "execution_count": 2,
   "metadata": {},
   "outputs": [],
   "source": [
    "import matplotlib.pyplot as plt\n",
    "%matplotlib inline\n",
    "%config InlineBackend.figure_format='retina'"
   ]
  },
  {
   "cell_type": "code",
   "execution_count": 3,
   "metadata": {},
   "outputs": [],
   "source": [
    "from tensorflow.keras import Sequential\n",
    "from tensorflow.keras.layers import MaxPool2D, Dense, Flatten, Dropout, Conv2D\n",
    "import tensorflow as tf "
   ]
  },
  {
   "cell_type": "code",
   "execution_count": null,
   "metadata": {},
   "outputs": [],
   "source": []
  },
  {
   "cell_type": "code",
   "execution_count": 4,
   "metadata": {},
   "outputs": [],
   "source": [
    "from sklearn.model_selection import GridSearchCV"
   ]
  },
  {
   "cell_type": "code",
   "execution_count": null,
   "metadata": {},
   "outputs": [],
   "source": []
  },
  {
   "cell_type": "code",
   "execution_count": 5,
   "metadata": {},
   "outputs": [
    {
     "name": "stdout",
     "output_type": "stream",
     "text": [
      "2.3.1\n"
     ]
    }
   ],
   "source": [
    "print(tf.__version__)"
   ]
  },
  {
   "cell_type": "code",
   "execution_count": 6,
   "metadata": {},
   "outputs": [],
   "source": [
    "numSubWins = 11\n",
    "trainingDir = '../../Dataset/training/'\n",
    "testingDir = '../../Dataset/testing/'"
   ]
  },
  {
   "cell_type": "code",
   "execution_count": 7,
   "metadata": {},
   "outputs": [],
   "source": [
    "def generate_data():\n",
    "    hard = np.loadtxt(trainingDir+\"hard.fvec\",skiprows=1)\n",
    "    nDims = int(hard.shape[1] / numSubWins)\n",
    "    h1 = np.reshape(hard,(hard.shape[0],nDims,numSubWins))\n",
    "    neut = np.loadtxt(trainingDir+\"neut.fvec\",skiprows=1)\n",
    "    n1 = np.reshape(neut,(neut.shape[0],nDims,numSubWins))\n",
    "    soft = np.loadtxt(trainingDir+\"soft.fvec\",skiprows=1)\n",
    "    s1 = np.reshape(soft,(soft.shape[0],nDims,numSubWins))\n",
    "    lsoft = np.loadtxt(trainingDir+\"linkedSoft.fvec\",skiprows=1)\n",
    "    ls1 = np.reshape(lsoft,(lsoft.shape[0], nDims, numSubWins))\n",
    "    lhard = np.loadtxt(trainingDir+\"linkedHard.fvec\",skiprows=1)\n",
    "    lh1 = np.reshape(lhard,(lhard.shape[0],nDims,numSubWins))\n",
    "    \n",
    "    \n",
    "    both=np.concatenate((h1,n1,s1,ls1,lh1))\n",
    "    y=np.concatenate((np.repeat(0,len(h1)),np.repeat(1,len(n1)), np.repeat(2,len(s1)), np.repeat(3,len(ls1)), np.repeat(4,len(lh1))))\n",
    "    \n",
    "    \n",
    "    both = both.reshape(both.shape[0],nDims,numSubWins,1)\n",
    "    if (trainingDir==testingDir):\n",
    "        X_train, X_test, y_train, y_test = train_test_split(both, y, test_size=0.2)\n",
    "    else:\n",
    "        X_train = both\n",
    "        y_train = y\n",
    "        #testing data\n",
    "        \n",
    "        hard = np.loadtxt(testingDir+\"hard.fvec\",skiprows=1)\n",
    "        h1 = np.reshape(hard,(hard.shape[0],nDims,numSubWins))\n",
    "        neut = np.loadtxt(testingDir+\"neut.fvec\",skiprows=1)\n",
    "        n1 = np.reshape(neut,(neut.shape[0],nDims,numSubWins))\n",
    "        soft = np.loadtxt(testingDir+\"soft.fvec\",skiprows=1)\n",
    "        s1 = np.reshape(soft,(soft.shape[0],nDims,numSubWins))\n",
    "        lsoft = np.loadtxt(testingDir+\"linkedSoft.fvec\",skiprows=1)\n",
    "        ls1 = np.reshape(lsoft,(lsoft.shape[0],nDims,numSubWins))\n",
    "        lhard = np.loadtxt(testingDir+\"linkedHard.fvec\",skiprows=1)\n",
    "        lh1 = np.reshape(lhard,(lhard.shape[0],nDims,numSubWins))\n",
    "        \n",
    "        both2=np.concatenate((h1,n1,s1,ls1,lh1))\n",
    "        X_test = both2.reshape(both2.shape[0],nDims,numSubWins,1)\n",
    "        y_test=np.concatenate((np.repeat(0,len(h1)),np.repeat(1,len(n1)), np.repeat(2,len(s1)), np.repeat(3,len(ls1)), np.repeat(4,len(lh1))))\n",
    "    \n",
    "    Y_train = np_utils.to_categorical(y_train, 5)\n",
    "    Y_test = np_utils.to_categorical(y_test, 5)\n",
    "    X_valid, X_test, Y_valid, Y_test = train_test_split(X_test, Y_test, test_size=0.5)        \n",
    "        \n",
    "    \n",
    "    #print(X_train.shape)\n",
    "    print(\"training set has %d examples\" % X_train.shape[0])\n",
    "    print(\"validation set has %d examples\" % X_valid.shape[0])\n",
    "    print(\"test set has %d examples\" % X_test.shape[0])\n",
    "    \n",
    "    return X_train, X_valid, X_test, Y_train, Y_valid, Y_test"
   ]
  },
  {
   "cell_type": "code",
   "execution_count": 8,
   "metadata": {},
   "outputs": [
    {
     "name": "stdout",
     "output_type": "stream",
     "text": [
      "training set has 10000 examples\n",
      "validation set has 5000 examples\n",
      "test set has 5000 examples\n"
     ]
    }
   ],
   "source": [
    "X_train, X_valid, X_test, Y_train, Y_valid, Y_test = generate_data()"
   ]
  },
  {
   "cell_type": "code",
   "execution_count": 9,
   "metadata": {},
   "outputs": [
    {
     "name": "stdout",
     "output_type": "stream",
     "text": [
      "Shape of train dataset: (10000, 12, 11, 1)\n",
      "Shape of train label dataset: (10000, 5)\n",
      "Shape of validation dataset: (5000, 12, 11, 1)\n",
      "Shape of validation label dataset: (5000, 5)\n",
      "Shape of test dataset: (5000, 12, 11, 1)\n",
      "Shape of test label dataset: (5000, 5)\n"
     ]
    }
   ],
   "source": [
    "print('Shape of train dataset: {}'.format(X_train.shape))\n",
    "print('Shape of train label dataset: {}'.format(Y_train.shape))\n",
    "\n",
    "print('Shape of validation dataset: {}'.format(X_valid.shape))\n",
    "print('Shape of validation label dataset: {}'.format(Y_valid.shape))\n",
    "\n",
    "print('Shape of test dataset: {}'.format(X_test.shape))\n",
    "print('Shape of test label dataset: {}'.format(Y_test.shape))"
   ]
  },
  {
   "cell_type": "code",
   "execution_count": 10,
   "metadata": {},
   "outputs": [],
   "source": [
    "input_shape = X_train[0].shape\n",
    "number_of_classes = Y_train.shape[1]"
   ]
  },
  {
   "cell_type": "code",
   "execution_count": null,
   "metadata": {},
   "outputs": [],
   "source": []
  },
  {
   "cell_type": "code",
   "execution_count": 11,
   "metadata": {},
   "outputs": [],
   "source": [
    "def make_model():\n",
    "    model = Sequential()\n",
    "    model.add(Conv2D(filters=32, kernel_size=(3,3), activation='relu', input_shape=input_shape))\n",
    "    model.add(Conv2D(filters=64, kernel_size=(3,3), activation='relu'))\n",
    "    model.add(MaxPool2D(2,2))\n",
    "    model.add(Dropout(0.25))\n",
    "    \n",
    "    model.add(Flatten())\n",
    "    model.add(Dense(128, activation='relu'))\n",
    "    model.add(Dropout(0.5))\n",
    "    model.add(Dense(number_of_classes, activation='sigmoid'))\n",
    "    \n",
    "    return model"
   ]
  },
  {
   "cell_type": "code",
   "execution_count": 12,
   "metadata": {},
   "outputs": [],
   "source": [
    "model = make_model()"
   ]
  },
  {
   "cell_type": "code",
   "execution_count": null,
   "metadata": {},
   "outputs": [],
   "source": []
  },
  {
   "cell_type": "code",
   "execution_count": 13,
   "metadata": {},
   "outputs": [
    {
     "name": "stdout",
     "output_type": "stream",
     "text": [
      "Model: \"sequential\"\n",
      "_________________________________________________________________\n",
      "Layer (type)                 Output Shape              Param #   \n",
      "=================================================================\n",
      "conv2d (Conv2D)              (None, 10, 9, 32)         320       \n",
      "_________________________________________________________________\n",
      "conv2d_1 (Conv2D)            (None, 8, 7, 64)          18496     \n",
      "_________________________________________________________________\n",
      "max_pooling2d (MaxPooling2D) (None, 4, 3, 64)          0         \n",
      "_________________________________________________________________\n",
      "dropout (Dropout)            (None, 4, 3, 64)          0         \n",
      "_________________________________________________________________\n",
      "flatten (Flatten)            (None, 768)               0         \n",
      "_________________________________________________________________\n",
      "dense (Dense)                (None, 128)               98432     \n",
      "_________________________________________________________________\n",
      "dropout_1 (Dropout)          (None, 128)               0         \n",
      "_________________________________________________________________\n",
      "dense_1 (Dense)              (None, 5)                 645       \n",
      "=================================================================\n",
      "Total params: 117,893\n",
      "Trainable params: 117,893\n",
      "Non-trainable params: 0\n",
      "_________________________________________________________________\n"
     ]
    }
   ],
   "source": [
    "model.summary()"
   ]
  },
  {
   "cell_type": "code",
   "execution_count": 14,
   "metadata": {},
   "outputs": [],
   "source": [
    "model.compile(loss='categorical_crossentropy', optimizer='adam', metrics=['accuracy'])\n"
   ]
  },
  {
   "cell_type": "code",
   "execution_count": 15,
   "metadata": {},
   "outputs": [
    {
     "name": "stdout",
     "output_type": "stream",
     "text": [
      "Epoch 1/100\n",
      "157/157 [==============================] - 1s 5ms/step - loss: 1.3172 - accuracy: 0.4215 - val_loss: 1.0133 - val_accuracy: 0.5670\n",
      "Epoch 2/100\n",
      "157/157 [==============================] - 1s 4ms/step - loss: 0.9963 - accuracy: 0.5757 - val_loss: 0.8587 - val_accuracy: 0.6438\n",
      "Epoch 3/100\n",
      "157/157 [==============================] - 1s 4ms/step - loss: 0.8901 - accuracy: 0.6185 - val_loss: 0.7946 - val_accuracy: 0.6584\n",
      "Epoch 4/100\n",
      "157/157 [==============================] - 1s 4ms/step - loss: 0.8261 - accuracy: 0.6484 - val_loss: 0.7369 - val_accuracy: 0.6850\n",
      "Epoch 5/100\n",
      "157/157 [==============================] - 1s 6ms/step - loss: 0.7863 - accuracy: 0.6642 - val_loss: 0.6976 - val_accuracy: 0.7016\n",
      "Epoch 6/100\n",
      "157/157 [==============================] - 1s 6ms/step - loss: 0.7385 - accuracy: 0.6869 - val_loss: 0.6686 - val_accuracy: 0.7128\n",
      "Epoch 7/100\n",
      "157/157 [==============================] - 1s 4ms/step - loss: 0.7074 - accuracy: 0.6993 - val_loss: 0.6556 - val_accuracy: 0.7210\n",
      "Epoch 8/100\n",
      "157/157 [==============================] - 1s 4ms/step - loss: 0.6796 - accuracy: 0.7120 - val_loss: 0.6210 - val_accuracy: 0.7382\n",
      "Epoch 9/100\n",
      "157/157 [==============================] - 1s 4ms/step - loss: 0.6593 - accuracy: 0.7252 - val_loss: 0.6010 - val_accuracy: 0.7442\n",
      "Epoch 10/100\n",
      "157/157 [==============================] - 1s 4ms/step - loss: 0.6364 - accuracy: 0.7367 - val_loss: 0.5851 - val_accuracy: 0.7524\n",
      "Epoch 11/100\n",
      "157/157 [==============================] - 1s 4ms/step - loss: 0.6066 - accuracy: 0.7523 - val_loss: 0.5673 - val_accuracy: 0.7670\n",
      "Epoch 12/100\n",
      "157/157 [==============================] - 1s 4ms/step - loss: 0.5952 - accuracy: 0.7524 - val_loss: 0.5580 - val_accuracy: 0.7764\n",
      "Epoch 13/100\n",
      "157/157 [==============================] - 1s 4ms/step - loss: 0.5654 - accuracy: 0.7677 - val_loss: 0.5362 - val_accuracy: 0.7860\n",
      "Epoch 14/100\n",
      "157/157 [==============================] - 1s 4ms/step - loss: 0.5586 - accuracy: 0.7722 - val_loss: 0.5310 - val_accuracy: 0.7894\n",
      "Epoch 15/100\n",
      "157/157 [==============================] - 1s 4ms/step - loss: 0.5454 - accuracy: 0.7811 - val_loss: 0.5242 - val_accuracy: 0.7926\n",
      "Epoch 16/100\n",
      "157/157 [==============================] - 1s 4ms/step - loss: 0.5254 - accuracy: 0.7919 - val_loss: 0.5196 - val_accuracy: 0.7954\n",
      "Epoch 17/100\n",
      "157/157 [==============================] - 1s 4ms/step - loss: 0.5127 - accuracy: 0.7970 - val_loss: 0.4941 - val_accuracy: 0.8018\n",
      "Epoch 18/100\n",
      "157/157 [==============================] - 1s 5ms/step - loss: 0.5064 - accuracy: 0.8007 - val_loss: 0.4872 - val_accuracy: 0.8086\n",
      "Epoch 19/100\n",
      "157/157 [==============================] - 1s 5ms/step - loss: 0.4939 - accuracy: 0.8060 - val_loss: 0.4912 - val_accuracy: 0.8068\n",
      "Epoch 20/100\n",
      "157/157 [==============================] - 1s 5ms/step - loss: 0.4856 - accuracy: 0.8076 - val_loss: 0.4809 - val_accuracy: 0.8104\n",
      "Epoch 21/100\n",
      "157/157 [==============================] - 1s 4ms/step - loss: 0.4757 - accuracy: 0.8107 - val_loss: 0.4924 - val_accuracy: 0.8042\n",
      "Epoch 22/100\n",
      "157/157 [==============================] - 1s 4ms/step - loss: 0.4659 - accuracy: 0.8185 - val_loss: 0.4748 - val_accuracy: 0.8106\n",
      "Epoch 23/100\n",
      "157/157 [==============================] - 1s 5ms/step - loss: 0.4639 - accuracy: 0.8148 - val_loss: 0.4862 - val_accuracy: 0.8054\n",
      "Epoch 24/100\n",
      "157/157 [==============================] - 1s 5ms/step - loss: 0.4586 - accuracy: 0.8169 - val_loss: 0.4587 - val_accuracy: 0.8230\n",
      "Epoch 25/100\n",
      "157/157 [==============================] - 1s 5ms/step - loss: 0.4410 - accuracy: 0.8258 - val_loss: 0.4680 - val_accuracy: 0.8200\n",
      "Epoch 26/100\n",
      "157/157 [==============================] - 1s 5ms/step - loss: 0.4426 - accuracy: 0.8261 - val_loss: 0.4622 - val_accuracy: 0.8164\n",
      "Epoch 27/100\n",
      "157/157 [==============================] - 1s 4ms/step - loss: 0.4357 - accuracy: 0.8295 - val_loss: 0.4541 - val_accuracy: 0.8232\n",
      "Epoch 28/100\n",
      "157/157 [==============================] - 1s 4ms/step - loss: 0.4310 - accuracy: 0.8321 - val_loss: 0.4689 - val_accuracy: 0.8194\n",
      "Epoch 29/100\n",
      "157/157 [==============================] - 1s 4ms/step - loss: 0.4196 - accuracy: 0.8376 - val_loss: 0.4459 - val_accuracy: 0.8284\n",
      "Epoch 30/100\n",
      "157/157 [==============================] - 1s 5ms/step - loss: 0.4067 - accuracy: 0.8438 - val_loss: 0.4526 - val_accuracy: 0.8252\n",
      "Epoch 31/100\n",
      "157/157 [==============================] - 1s 4ms/step - loss: 0.4050 - accuracy: 0.8421 - val_loss: 0.4578 - val_accuracy: 0.8238\n",
      "Epoch 32/100\n",
      "157/157 [==============================] - 1s 5ms/step - loss: 0.4075 - accuracy: 0.8398 - val_loss: 0.4435 - val_accuracy: 0.8272\n",
      "Epoch 33/100\n",
      "157/157 [==============================] - 1s 4ms/step - loss: 0.3957 - accuracy: 0.8449 - val_loss: 0.4531 - val_accuracy: 0.8254\n",
      "Epoch 34/100\n",
      "157/157 [==============================] - 1s 5ms/step - loss: 0.3885 - accuracy: 0.8514 - val_loss: 0.4412 - val_accuracy: 0.8278\n",
      "Epoch 35/100\n",
      "157/157 [==============================] - 1s 5ms/step - loss: 0.3844 - accuracy: 0.8484 - val_loss: 0.4418 - val_accuracy: 0.8266\n",
      "Epoch 36/100\n",
      "157/157 [==============================] - 1s 5ms/step - loss: 0.3819 - accuracy: 0.8491 - val_loss: 0.4457 - val_accuracy: 0.8258\n",
      "Epoch 37/100\n",
      "157/157 [==============================] - 1s 5ms/step - loss: 0.3710 - accuracy: 0.8544 - val_loss: 0.4564 - val_accuracy: 0.8266\n",
      "Epoch 38/100\n",
      "157/157 [==============================] - 1s 5ms/step - loss: 0.3773 - accuracy: 0.8536 - val_loss: 0.4490 - val_accuracy: 0.8232\n",
      "Epoch 39/100\n",
      "157/157 [==============================] - 1s 5ms/step - loss: 0.3744 - accuracy: 0.8547 - val_loss: 0.4488 - val_accuracy: 0.8238\n",
      "Epoch 40/100\n",
      "157/157 [==============================] - 1s 5ms/step - loss: 0.3703 - accuracy: 0.8545 - val_loss: 0.4682 - val_accuracy: 0.8262\n",
      "Epoch 41/100\n",
      "157/157 [==============================] - 1s 5ms/step - loss: 0.3680 - accuracy: 0.8572 - val_loss: 0.4441 - val_accuracy: 0.8264\n",
      "Epoch 42/100\n",
      "157/157 [==============================] - 1s 5ms/step - loss: 0.3540 - accuracy: 0.8634 - val_loss: 0.4469 - val_accuracy: 0.8272\n",
      "Epoch 43/100\n",
      "157/157 [==============================] - 1s 5ms/step - loss: 0.3559 - accuracy: 0.8556 - val_loss: 0.4596 - val_accuracy: 0.8236\n",
      "Epoch 44/100\n",
      "157/157 [==============================] - 1s 5ms/step - loss: 0.3527 - accuracy: 0.8590 - val_loss: 0.4427 - val_accuracy: 0.8322\n",
      "Epoch 45/100\n",
      "157/157 [==============================] - 1s 5ms/step - loss: 0.3448 - accuracy: 0.8663 - val_loss: 0.4585 - val_accuracy: 0.8230\n",
      "Epoch 46/100\n",
      "157/157 [==============================] - 1s 5ms/step - loss: 0.3411 - accuracy: 0.8687 - val_loss: 0.4591 - val_accuracy: 0.8284\n",
      "Epoch 47/100\n",
      "157/157 [==============================] - 1s 5ms/step - loss: 0.3315 - accuracy: 0.8691 - val_loss: 0.4448 - val_accuracy: 0.8306\n",
      "Epoch 48/100\n",
      "157/157 [==============================] - 1s 5ms/step - loss: 0.3387 - accuracy: 0.8690 - val_loss: 0.4633 - val_accuracy: 0.8292\n",
      "Epoch 49/100\n",
      "157/157 [==============================] - 1s 5ms/step - loss: 0.3352 - accuracy: 0.8705 - val_loss: 0.4460 - val_accuracy: 0.8278\n",
      "Epoch 50/100\n",
      "157/157 [==============================] - 1s 5ms/step - loss: 0.3318 - accuracy: 0.8714 - val_loss: 0.4492 - val_accuracy: 0.8322\n",
      "Epoch 51/100\n",
      "157/157 [==============================] - 1s 5ms/step - loss: 0.3190 - accuracy: 0.8744 - val_loss: 0.4609 - val_accuracy: 0.8316\n",
      "Epoch 52/100\n",
      "157/157 [==============================] - 1s 5ms/step - loss: 0.3235 - accuracy: 0.8747 - val_loss: 0.4523 - val_accuracy: 0.8300\n",
      "Epoch 53/100\n",
      "157/157 [==============================] - 1s 5ms/step - loss: 0.3268 - accuracy: 0.8723 - val_loss: 0.4599 - val_accuracy: 0.8306\n",
      "Epoch 54/100\n",
      "157/157 [==============================] - 1s 5ms/step - loss: 0.3223 - accuracy: 0.8730 - val_loss: 0.4485 - val_accuracy: 0.8314\n",
      "Epoch 55/100\n",
      "157/157 [==============================] - 1s 5ms/step - loss: 0.3079 - accuracy: 0.8767 - val_loss: 0.4637 - val_accuracy: 0.8290\n",
      "Epoch 56/100\n",
      "157/157 [==============================] - 1s 5ms/step - loss: 0.3094 - accuracy: 0.8768 - val_loss: 0.4760 - val_accuracy: 0.8276\n",
      "Epoch 57/100\n",
      "157/157 [==============================] - 1s 5ms/step - loss: 0.3125 - accuracy: 0.8771 - val_loss: 0.4588 - val_accuracy: 0.8296\n",
      "Epoch 58/100\n",
      "157/157 [==============================] - 1s 5ms/step - loss: 0.3201 - accuracy: 0.8737 - val_loss: 0.4571 - val_accuracy: 0.8274\n",
      "Epoch 59/100\n",
      "157/157 [==============================] - 1s 5ms/step - loss: 0.3050 - accuracy: 0.8824 - val_loss: 0.4682 - val_accuracy: 0.8338\n",
      "Epoch 60/100\n",
      "157/157 [==============================] - 1s 5ms/step - loss: 0.3014 - accuracy: 0.8811 - val_loss: 0.4830 - val_accuracy: 0.8300\n",
      "Epoch 61/100\n",
      "157/157 [==============================] - 1s 5ms/step - loss: 0.2935 - accuracy: 0.8839 - val_loss: 0.4626 - val_accuracy: 0.8284\n",
      "Epoch 62/100\n",
      "157/157 [==============================] - 1s 5ms/step - loss: 0.2972 - accuracy: 0.8819 - val_loss: 0.4637 - val_accuracy: 0.8316\n",
      "Epoch 63/100\n",
      "157/157 [==============================] - 1s 5ms/step - loss: 0.2952 - accuracy: 0.8844 - val_loss: 0.4617 - val_accuracy: 0.8310\n",
      "Epoch 64/100\n",
      "157/157 [==============================] - 1s 5ms/step - loss: 0.2812 - accuracy: 0.8895 - val_loss: 0.4761 - val_accuracy: 0.8300\n",
      "Epoch 65/100\n",
      "157/157 [==============================] - 1s 5ms/step - loss: 0.2820 - accuracy: 0.8871 - val_loss: 0.4739 - val_accuracy: 0.8276\n",
      "Epoch 66/100\n",
      "157/157 [==============================] - 1s 5ms/step - loss: 0.2773 - accuracy: 0.8901 - val_loss: 0.4931 - val_accuracy: 0.8324\n",
      "Epoch 67/100\n",
      "157/157 [==============================] - 1s 5ms/step - loss: 0.2809 - accuracy: 0.8918 - val_loss: 0.4872 - val_accuracy: 0.8324\n",
      "Epoch 68/100\n",
      "157/157 [==============================] - 1s 5ms/step - loss: 0.2796 - accuracy: 0.8903 - val_loss: 0.4821 - val_accuracy: 0.8304\n",
      "Epoch 69/100\n",
      "157/157 [==============================] - 1s 5ms/step - loss: 0.2754 - accuracy: 0.8924 - val_loss: 0.4799 - val_accuracy: 0.8322\n",
      "Epoch 70/100\n",
      "157/157 [==============================] - 1s 5ms/step - loss: 0.2740 - accuracy: 0.8924 - val_loss: 0.4777 - val_accuracy: 0.8360\n",
      "Epoch 71/100\n",
      "157/157 [==============================] - 1s 5ms/step - loss: 0.2755 - accuracy: 0.8887 - val_loss: 0.4905 - val_accuracy: 0.8242\n",
      "Epoch 72/100\n",
      "157/157 [==============================] - 1s 5ms/step - loss: 0.2725 - accuracy: 0.8908 - val_loss: 0.4836 - val_accuracy: 0.8376\n",
      "Epoch 73/100\n",
      "157/157 [==============================] - 1s 5ms/step - loss: 0.2650 - accuracy: 0.8948 - val_loss: 0.4841 - val_accuracy: 0.8350\n",
      "Epoch 74/100\n",
      "157/157 [==============================] - 1s 5ms/step - loss: 0.2622 - accuracy: 0.8976 - val_loss: 0.4770 - val_accuracy: 0.8298\n",
      "Epoch 75/100\n",
      "157/157 [==============================] - 1s 5ms/step - loss: 0.2592 - accuracy: 0.8981 - val_loss: 0.4893 - val_accuracy: 0.8336\n",
      "Epoch 76/100\n",
      "157/157 [==============================] - 1s 6ms/step - loss: 0.2584 - accuracy: 0.8986 - val_loss: 0.5531 - val_accuracy: 0.8204\n",
      "Epoch 77/100\n",
      "157/157 [==============================] - 1s 5ms/step - loss: 0.2559 - accuracy: 0.8991 - val_loss: 0.4936 - val_accuracy: 0.8338\n",
      "Epoch 78/100\n",
      "157/157 [==============================] - 1s 5ms/step - loss: 0.2520 - accuracy: 0.9033 - val_loss: 0.4910 - val_accuracy: 0.8296\n",
      "Epoch 79/100\n",
      "157/157 [==============================] - 1s 5ms/step - loss: 0.2515 - accuracy: 0.9003 - val_loss: 0.5334 - val_accuracy: 0.8284\n",
      "Epoch 80/100\n",
      "157/157 [==============================] - 1s 6ms/step - loss: 0.2554 - accuracy: 0.8989 - val_loss: 0.5083 - val_accuracy: 0.8358\n",
      "Epoch 81/100\n",
      "157/157 [==============================] - 1s 5ms/step - loss: 0.2521 - accuracy: 0.9006 - val_loss: 0.5033 - val_accuracy: 0.8296\n",
      "Epoch 82/100\n",
      "157/157 [==============================] - 1s 5ms/step - loss: 0.2481 - accuracy: 0.9038 - val_loss: 0.5075 - val_accuracy: 0.8276\n",
      "Epoch 83/100\n",
      "157/157 [==============================] - 1s 5ms/step - loss: 0.2444 - accuracy: 0.9050 - val_loss: 0.5059 - val_accuracy: 0.8252\n",
      "Epoch 84/100\n",
      "157/157 [==============================] - 1s 5ms/step - loss: 0.2429 - accuracy: 0.9046 - val_loss: 0.5230 - val_accuracy: 0.8316\n",
      "Epoch 85/100\n",
      "157/157 [==============================] - 1s 5ms/step - loss: 0.2519 - accuracy: 0.9001 - val_loss: 0.5137 - val_accuracy: 0.8280\n",
      "Epoch 86/100\n",
      "157/157 [==============================] - 1s 5ms/step - loss: 0.2319 - accuracy: 0.9099 - val_loss: 0.5101 - val_accuracy: 0.8274\n",
      "Epoch 87/100\n",
      "157/157 [==============================] - 1s 5ms/step - loss: 0.2410 - accuracy: 0.9063 - val_loss: 0.5345 - val_accuracy: 0.8324\n",
      "Epoch 88/100\n",
      "157/157 [==============================] - 1s 5ms/step - loss: 0.2366 - accuracy: 0.9081 - val_loss: 0.5145 - val_accuracy: 0.8298\n",
      "Epoch 89/100\n",
      "157/157 [==============================] - 1s 5ms/step - loss: 0.2286 - accuracy: 0.9081 - val_loss: 0.5281 - val_accuracy: 0.8322\n",
      "Epoch 90/100\n",
      "157/157 [==============================] - 1s 5ms/step - loss: 0.2338 - accuracy: 0.9089 - val_loss: 0.5180 - val_accuracy: 0.8310\n",
      "Epoch 91/100\n",
      "157/157 [==============================] - 1s 5ms/step - loss: 0.2322 - accuracy: 0.9042 - val_loss: 0.5264 - val_accuracy: 0.8304\n",
      "Epoch 92/100\n",
      "157/157 [==============================] - 1s 5ms/step - loss: 0.2306 - accuracy: 0.9060 - val_loss: 0.5350 - val_accuracy: 0.8302\n",
      "Epoch 93/100\n",
      "157/157 [==============================] - 1s 5ms/step - loss: 0.2249 - accuracy: 0.9122 - val_loss: 0.5234 - val_accuracy: 0.8312\n",
      "Epoch 94/100\n",
      "157/157 [==============================] - 1s 5ms/step - loss: 0.2339 - accuracy: 0.9101 - val_loss: 0.5232 - val_accuracy: 0.8306\n",
      "Epoch 95/100\n",
      "157/157 [==============================] - 1s 5ms/step - loss: 0.2367 - accuracy: 0.9060 - val_loss: 0.5469 - val_accuracy: 0.8348\n",
      "Epoch 96/100\n",
      "157/157 [==============================] - 1s 6ms/step - loss: 0.2290 - accuracy: 0.9120 - val_loss: 0.5207 - val_accuracy: 0.8294\n",
      "Epoch 97/100\n",
      "157/157 [==============================] - 1s 5ms/step - loss: 0.2206 - accuracy: 0.9163 - val_loss: 0.5432 - val_accuracy: 0.8328\n",
      "Epoch 98/100\n",
      "157/157 [==============================] - 1s 5ms/step - loss: 0.2143 - accuracy: 0.9169 - val_loss: 0.5384 - val_accuracy: 0.8296\n",
      "Epoch 99/100\n",
      "157/157 [==============================] - 1s 5ms/step - loss: 0.2154 - accuracy: 0.9157 - val_loss: 0.5405 - val_accuracy: 0.8294\n",
      "Epoch 100/100\n",
      "157/157 [==============================] - 1s 5ms/step - loss: 0.2152 - accuracy: 0.9129 - val_loss: 0.5491 - val_accuracy: 0.8254\n"
     ]
    }
   ],
   "source": [
    "batch_size = 64\n",
    "epochs = 100\n",
    "history = model.fit(X_train, Y_train, batch_size=batch_size, epochs=epochs, verbose=1, validation_data=(X_valid, Y_valid))"
   ]
  },
  {
   "cell_type": "code",
   "execution_count": 16,
   "metadata": {},
   "outputs": [],
   "source": [
    "def plot_learning_curve(history, epochs):\n",
    "    epoch_range = range(1, epochs+1)\n",
    "    plt.plot(epoch_range, history.history['accuracy'])\n",
    "    plt.plot(epoch_range, history.history['val_accuracy'])\n",
    "    plt.title('Model accuracy')\n",
    "    plt.ylabel('Accuracy')\n",
    "    plt.xlabel('Epoch')\n",
    "    plt.legend(['Train', 'Val'], loc=\"upper left\")\n",
    "    plt.show()\n",
    "\n",
    "    epoch_range = range(1, epochs+1)\n",
    "    plt.plot(epoch_range, history.history['loss'])\n",
    "    plt.plot(epoch_range, history.history['val_loss'])\n",
    "    plt.title('Model loss')\n",
    "    plt.ylabel('Loss')\n",
    "    plt.xlabel('Epoch')\n",
    "    plt.legend(['Train', 'Val'], loc=\"upper left\")\n",
    "    plt.show()"
   ]
  },
  {
   "cell_type": "code",
   "execution_count": 17,
   "metadata": {},
   "outputs": [
    {
     "data": {
      "image/png": "[encoded data removed]",
      "text/plain": [
       "<Figure size 432x288 with 1 Axes>"
      ]
     },
     "metadata": {
      "image/png": {
       "height": 277,
       "width": 385
      },
      "needs_background": "light"
     },
     "output_type": "display_data"
    },
    {
     "data": {
      "image/png": "[encoded data removed]",
      "text/plain": [
       "<Figure size 432x288 with 1 Axes>"
      ]
     },
     "metadata": {
      "image/png": {
       "height": 277,
       "width": 385
      },
      "needs_background": "light"
     },
     "output_type": "display_data"
    }
   ],
   "source": [
    "plot_learning_curve(history, epochs)"
   ]
  },
  {
   "cell_type": "code",
   "execution_count": null,
   "metadata": {},
   "outputs": [],
   "source": []
  },
  {
   "cell_type": "code",
   "execution_count": null,
   "metadata": {},
   "outputs": [],
   "source": []
  },
  {
   "cell_type": "code",
   "execution_count": null,
   "metadata": {},
   "outputs": [],
   "source": []
  },
  {
   "cell_type": "code",
   "execution_count": null,
   "metadata": {},
   "outputs": [],
   "source": []
  }
 ],
 "metadata": {
  "kernelspec": {
   "display_name": "Python 3",
   "language": "python",
   "name": "python3"
  },
  "language_info": {
   "codemirror_mode": {
    "name": "ipython",
    "version": 3
   },
   "file_extension": ".py",
   "mimetype": "text/x-python",
   "name": "python",
   "nbconvert_exporter": "python",
   "pygments_lexer": "ipython3",
   "version": "3.8.3"
  }
 },
 "nbformat": 4,
 "nbformat_minor": 4
}
