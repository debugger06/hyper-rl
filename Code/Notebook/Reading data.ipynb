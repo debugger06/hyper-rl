{
 "cells": [
  {
   "cell_type": "code",
   "execution_count": 14,
   "metadata": {},
   "outputs": [],
   "source": [
    "import numpy as np\n",
    "from keras.utils import np_utils\n",
    "from sklearn.model_selection import train_test_split"
   ]
  },
  {
   "cell_type": "code",
   "execution_count": null,
   "metadata": {},
   "outputs": [],
   "source": []
  },
  {
   "cell_type": "code",
   "execution_count": 15,
   "metadata": {},
   "outputs": [],
   "source": [
    "numSubWins = 11\n",
    "trainingDir = '../../Dataset/training/'\n",
    "testingDir = '../../Dataset/testing/'"
   ]
  },
  {
   "cell_type": "code",
   "execution_count": 16,
   "metadata": {},
   "outputs": [],
   "source": []
  },
  {
   "cell_type": "code",
   "execution_count": 17,
   "metadata": {},
   "outputs": [
    {
     "name": "stdout",
     "output_type": "stream",
     "text": [
      "training set has 10000 examples\n",
      "validation set has 5000 examples\n",
      "test set has 5000 examples\n"
     ]
    }
   ],
   "source": [
    "hard = np.loadtxt(trainingDir+\"hard.fvec\",skiprows=1)\n",
    "nDims = int(hard.shape[1] / numSubWins)\n",
    "h1 = np.reshape(hard,(hard.shape[0],nDims,numSubWins))\n",
    "neut = np.loadtxt(trainingDir+\"neut.fvec\",skiprows=1)\n",
    "n1 = np.reshape(neut,(neut.shape[0],nDims,numSubWins))\n",
    "soft = np.loadtxt(trainingDir+\"soft.fvec\",skiprows=1)\n",
    "s1 = np.reshape(soft,(soft.shape[0],nDims,numSubWins))\n",
    "lsoft = np.loadtxt(trainingDir+\"linkedSoft.fvec\",skiprows=1)\n",
    "ls1 = np.reshape(lsoft,(lsoft.shape[0],nDims,numSubWins))\n",
    "lhard = np.loadtxt(trainingDir+\"linkedHard.fvec\",skiprows=1)\n",
    "lh1 = np.reshape(lhard,(lhard.shape[0],nDims,numSubWins))\n",
    "\n",
    "\n",
    "both=np.concatenate((h1,n1,s1,ls1,lh1))\n",
    "y=np.concatenate((np.repeat(0,len(h1)),np.repeat(1,len(n1)), np.repeat(2,len(s1)), np.repeat(3,len(ls1)), np.repeat(4,len(lh1))))\n",
    "\n",
    "\n",
    "both = both.reshape(both.shape[0],nDims,numSubWins,1)\n",
    "if (trainingDir==testingDir):\n",
    "    X_train, X_test, y_train, y_test = train_test_split(both, y, test_size=0.2)\n",
    "else:\n",
    "    X_train = both\n",
    "    y_train = y\n",
    "    #testing data\n",
    "    hard = np.loadtxt(testingDir+\"hard.fvec\",skiprows=1)\n",
    "    h1 = np.reshape(hard,(hard.shape[0],nDims,numSubWins))\n",
    "    neut = np.loadtxt(testingDir+\"neut.fvec\",skiprows=1)\n",
    "    n1 = np.reshape(neut,(neut.shape[0],nDims,numSubWins))\n",
    "    soft = np.loadtxt(testingDir+\"soft.fvec\",skiprows=1)\n",
    "    s1 = np.reshape(soft,(soft.shape[0],nDims,numSubWins))\n",
    "    lsoft = np.loadtxt(testingDir+\"linkedSoft.fvec\",skiprows=1)\n",
    "    ls1 = np.reshape(lsoft,(lsoft.shape[0],nDims,numSubWins))\n",
    "    lhard = np.loadtxt(testingDir+\"linkedHard.fvec\",skiprows=1)\n",
    "    lh1 = np.reshape(lhard,(lhard.shape[0],nDims,numSubWins))\n",
    "\n",
    "    both2=np.concatenate((h1,n1,s1,ls1,lh1))\n",
    "    X_test = both2.reshape(both2.shape[0],nDims,numSubWins,1)\n",
    "    y_test=np.concatenate((np.repeat(0,len(h1)),np.repeat(1,len(n1)), np.repeat(2,len(s1)), np.repeat(3,len(ls1)), np.repeat(4,len(lh1))))\n",
    "\n",
    "Y_train = np_utils.to_categorical(y_train, 5)\n",
    "Y_test = np_utils.to_categorical(y_test, 5)\n",
    "X_valid, X_test, Y_valid, Y_test = train_test_split(X_test, Y_test, test_size=0.5)        \n",
    "        \n",
    "        \n",
    "#print(X_train.shape)\n",
    "print(\"training set has %d examples\" % X_train.shape[0])\n",
    "print(\"validation set has %d examples\" % X_valid.shape[0])\n",
    "print(\"test set has %d examples\" % X_test.shape[0])       "
   ]
  },
  {
   "cell_type": "code",
   "execution_count": 18,
   "metadata": {},
   "outputs": [
    {
     "data": {
      "text/plain": [
       "(10000, 12, 11, 1)"
      ]
     },
     "execution_count": 18,
     "metadata": {},
     "output_type": "execute_result"
    }
   ],
   "source": [
    "X_train.shape"
   ]
  },
  {
   "cell_type": "code",
   "execution_count": null,
   "metadata": {},
   "outputs": [],
   "source": []
  },
  {
   "cell_type": "code",
   "execution_count": null,
   "metadata": {},
   "outputs": [],
   "source": []
  },
  {
   "cell_type": "code",
   "execution_count": null,
   "metadata": {},
   "outputs": [],
   "source": []
  },
  {
   "cell_type": "code",
   "execution_count": null,
   "metadata": {},
   "outputs": [],
   "source": []
  },
  {
   "cell_type": "code",
   "execution_count": null,
   "metadata": {},
   "outputs": [],
   "source": []
  }
 ],
 "metadata": {
  "kernelspec": {
   "display_name": "Python 3",
   "language": "python",
   "name": "python3"
  },
  "language_info": {
   "codemirror_mode": {
    "name": "ipython",
    "version": 3
   },
   "file_extension": ".py",
   "mimetype": "text/x-python",
   "name": "python",
   "nbconvert_exporter": "python",
   "pygments_lexer": "ipython3",
   "version": "3.8.3"
  }
 },
 "nbformat": 4,
 "nbformat_minor": 4
}
